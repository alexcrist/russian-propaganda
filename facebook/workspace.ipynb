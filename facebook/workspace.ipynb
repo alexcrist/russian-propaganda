{
 "cells": [
  {
   "cell_type": "code",
   "execution_count": null,
   "metadata": {},
   "outputs": [],
   "source": [
    "%load_ext autoreload\n",
    "%autoreload 2\n",
    "%matplotlib inline"
   ]
  },
  {
   "cell_type": "code",
   "execution_count": null,
   "metadata": {
    "collapsed": true
   },
   "outputs": [],
   "source": [
    "import matplotlib.pyplot as plt\n",
    "import seaborn as sns\n",
    "import pandas as pd\n",
    "import numpy as np\n",
    "import matplotlib\n",
    "\n",
    "from collections import Counter"
   ]
  },
  {
   "cell_type": "code",
   "execution_count": null,
   "metadata": {},
   "outputs": [],
   "source": [
    "sns.set_style('whitegrid')\n",
    "sns.set_palette(\"muted\")\n",
    "matplotlib.rc('font', size=16)"
   ]
  },
  {
   "cell_type": "markdown",
   "metadata": {},
   "source": [
    "# Tasks\n",
    "- visualize lenght ads ran for\n",
    "    - Use to normalize impressions and clicks\n",
    "- Split out gender\n",
    "- Clustering (kmeans for 2-6)\n",
    "    - tf-idf vectors\n",
    "    - drop into 2d w/ tsne\n",
    "    - make colorful pics"
   ]
  },
  {
   "cell_type": "markdown",
   "metadata": {},
   "source": [
    "### Load the data"
   ]
  },
  {
   "cell_type": "code",
   "execution_count": null,
   "metadata": {
    "scrolled": true
   },
   "outputs": [],
   "source": [
    "PATH = 'data/'\n",
    "fname = 'all_ads.csv'\n",
    "df = pd.read_csv(f\"{PATH}{fname}\", encoding='utf8')"
   ]
  },
  {
   "cell_type": "code",
   "execution_count": null,
   "metadata": {},
   "outputs": [],
   "source": [
    "df"
   ]
  },
  {
   "cell_type": "code",
   "execution_count": null,
   "metadata": {
    "collapsed": true
   },
   "outputs": [],
   "source": [
    "df.to_csv(f\"{PATH}{fname}\", index=False, encoding='utf8')"
   ]
  },
  {
   "cell_type": "markdown",
   "metadata": {},
   "source": [
    "# Basic Vis"
   ]
  },
  {
   "cell_type": "markdown",
   "metadata": {},
   "source": [
    "#### Look at the distribution of ages targeted"
   ]
  },
  {
   "cell_type": "code",
   "execution_count": null,
   "metadata": {
    "collapsed": true
   },
   "outputs": [],
   "source": [
    "def count_age_targets(row):\n",
    "    return [*range(row['min_age'], row['max_age'] + 1)]\n",
    "\n",
    "all_age_targets = []\n",
    "for i, row in df.iterrows():\n",
    "    all_age_targets += count_age_targets(row)"
   ]
  },
  {
   "cell_type": "code",
   "execution_count": null,
   "metadata": {
    "scrolled": true
   },
   "outputs": [],
   "source": [
    "plt.hist(all_age_targets, 67)\n",
    "\n",
    "labels = np.arange(0, 1.1, 0.25)\n",
    "plt.yticks(labels * len(df), labels)\n",
    "plt.xlim(8, 68)\n",
    "plt.xlabel('Age')\n",
    "plt.ylabel('Fraction of ads\\ntargeting that age')\n",
    "plt.title('Ages Targeted')\n",
    "plt.show()"
   ]
  },
  {
   "cell_type": "markdown",
   "metadata": {},
   "source": [
    "#### Cost-effectiveness"
   ]
  },
  {
   "cell_type": "code",
   "execution_count": null,
   "metadata": {},
   "outputs": [],
   "source": [
    "df.plot('ad_spend_rub', 'ad_impressions', kind='scatter', logx=True, logy=True, alpha=0.2)\n",
    "plt.xlabel('Spend (RUB)')\n",
    "plt.ylabel('Impressions')\n",
    "plt.show()"
   ]
  },
  {
   "cell_type": "code",
   "execution_count": null,
   "metadata": {},
   "outputs": [],
   "source": [
    "df.plot('ad_spend_rub', 'ad_clicks', kind='scatter', logx=True, logy=True, alpha=0.2)\n",
    "plt.xlabel('Spend (RUB)')\n",
    "plt.ylabel('Ad Clicks')\n",
    "plt.show()"
   ]
  },
  {
   "cell_type": "code",
   "execution_count": null,
   "metadata": {
    "scrolled": true
   },
   "outputs": [],
   "source": [
    "df.plot('ad_impressions', 'ad_clicks', kind='scatter', logx=True, logy=True, alpha=0.2)\n",
    "plt.xlabel('Impressions')\n",
    "plt.ylabel('Ad Clicks')\n",
    "plt.show()"
   ]
  },
  {
   "cell_type": "markdown",
   "metadata": {},
   "source": [
    "#### Rough time-series"
   ]
  },
  {
   "cell_type": "code",
   "execution_count": null,
   "metadata": {},
   "outputs": [],
   "source": [
    "time_series = df.iloc[:, 0]\n",
    "y = df['ad_clicks']\n",
    "\n",
    "plt.scatter(time_series, y)\n",
    "plt.show()"
   ]
  },
  {
   "cell_type": "markdown",
   "metadata": {},
   "source": [
    "## Normalizing impressions/clicks by ad spend"
   ]
  },
  {
   "cell_type": "code",
   "execution_count": null,
   "metadata": {
    "collapsed": true
   },
   "outputs": [],
   "source": [
    "import warnings\n",
    "warnings.filterwarnings('error')"
   ]
  },
  {
   "cell_type": "code",
   "execution_count": null,
   "metadata": {
    "collapsed": true
   },
   "outputs": [],
   "source": [
    "def safe_log(v):\n",
    "    try:\n",
    "        return np.log(v)\n",
    "    except RuntimeWarning:\n",
    "        return 0"
   ]
  },
  {
   "cell_type": "code",
   "execution_count": null,
   "metadata": {},
   "outputs": [],
   "source": [
    "def normalize_values(df, val_col, norm_col='ad_spend_rub', plot=False):\n",
    "    y = df[val_col].values\n",
    "    x = df[norm_col].values\n",
    "\n",
    "    # Convert to log space\n",
    "    y_log = np.array([*map(safe_log, y)])\n",
    "    x_log = np.array([*map(safe_log, x)])\n",
    "    \n",
    "    # Do a linear fit\n",
    "    fit = np.polyfit(x_log, y_log, 1)\n",
    "    fit_fn = np.poly1d(fit)\n",
    "    y_fit_log = fit_fn(x_log)\n",
    "    \n",
    "    # Get normalized results\n",
    "    y_normalize_log = y_log - y_fit_log\n",
    "    \n",
    "    if plot:\n",
    "        # Plot true data\n",
    "        plt.scatter(x_log, y_log, alpha=0.2)\n",
    "        plt.plot(x_log, y_fit_log)\n",
    "        plt.title(\"Original Data\")\n",
    "        plt.xlabel(norm_col)\n",
    "        plt.ylabel(val_col)\n",
    "        plt.show()\n",
    "        \n",
    "        # Plot normalized data\n",
    "        plt.scatter(x_log, y_normalize_log, alpha=0.2)\n",
    "        plt.plot(x_log, [0] * len(x_log))\n",
    "        plt.title(\"Normalized Data\")\n",
    "        plt.xlabel(norm_col)\n",
    "        plt.ylabel(f\"{val_col}_normalized\")\n",
    "        plt.show()\n",
    "        \n",
    "    \n",
    "    return y_normalize_log"
   ]
  },
  {
   "cell_type": "code",
   "execution_count": null,
   "metadata": {
    "scrolled": false
   },
   "outputs": [],
   "source": [
    "ad_clicks_tgt = normalize_values(df, 'ad_clicks', 'ad_spend_rub', True)\n",
    "ad_impressions_tgt = normalize_values(df, 'ad_impressions', 'ad_spend_rub', True)"
   ]
  },
  {
   "cell_type": "code",
   "execution_count": null,
   "metadata": {
    "collapsed": true
   },
   "outputs": [],
   "source": []
  },
  {
   "cell_type": "markdown",
   "metadata": {},
   "source": [
    "# Predicting ad clicks"
   ]
  },
  {
   "cell_type": "code",
   "execution_count": null,
   "metadata": {},
   "outputs": [],
   "source": [
    "import re\n",
    "from sklearn.feature_extraction.text import TfidfVectorizer\n",
    "from sklearn.linear_model import Ridge\n",
    "from sklearn.model_selection import train_test_split"
   ]
  },
  {
   "cell_type": "code",
   "execution_count": null,
   "metadata": {
    "collapsed": true
   },
   "outputs": [],
   "source": [
    "# Vectorize the text\n",
    "pattern = re.compile('([^\\s\\w]|_)+')\n",
    "cleaned_text = df['ad_text'].apply(lambda v: pattern.sub('', str(v).lower())).values\n",
    "\n",
    "vectorizer = TfidfVectorizer(max_df=0.5, stop_words='english', max_features=2000)\n",
    "vecs = vectorizer.fit_transform(cleaned_text)"
   ]
  },
  {
   "cell_type": "code",
   "execution_count": null,
   "metadata": {
    "collapsed": true
   },
   "outputs": [],
   "source": [
    "# Do some linear reg shit\n",
    "X = vecs\n",
    "y = ad_clicks_tgt\n",
    "\n",
    "X_train, X_test, y_train, y_test = train_test_split(X, y, test_size=0.2, random_state=42)"
   ]
  },
  {
   "cell_type": "code",
   "execution_count": null,
   "metadata": {
    "collapsed": true
   },
   "outputs": [],
   "source": [
    "clf = Ridge()\n",
    "clf.fit(X_train, y_train)\n",
    "y_train_pred = clf.predict(X_train)\n",
    "y_test_pred = clf.predict(X_test)"
   ]
  },
  {
   "cell_type": "code",
   "execution_count": null,
   "metadata": {},
   "outputs": [],
   "source": [
    "plt.scatter(y_train, y_train_pred)\n",
    "plt.xlabel('y_train')\n",
    "plt.ylabel('y_train_pred')"
   ]
  },
  {
   "cell_type": "code",
   "execution_count": null,
   "metadata": {},
   "outputs": [],
   "source": [
    "plt.scatter(y_test, y_test_pred)\n",
    "plt.plot(np.arange(-5, 5), np.arange(-5, 5))\n",
    "plt.xlabel('y_test')\n",
    "plt.ylabel('y_test_pred')"
   ]
  },
  {
   "cell_type": "code",
   "execution_count": null,
   "metadata": {
    "collapsed": true
   },
   "outputs": [],
   "source": []
  }
 ],
 "metadata": {
  "kernelspec": {
   "display_name": "Python 3",
   "language": "python",
   "name": "python3"
  },
  "language_info": {
   "codemirror_mode": {
    "name": "ipython",
    "version": 3
   },
   "file_extension": ".py",
   "mimetype": "text/x-python",
   "name": "python",
   "nbconvert_exporter": "python",
   "pygments_lexer": "ipython3",
   "version": "3.6.3"
  }
 },
 "nbformat": 4,
 "nbformat_minor": 2
}
