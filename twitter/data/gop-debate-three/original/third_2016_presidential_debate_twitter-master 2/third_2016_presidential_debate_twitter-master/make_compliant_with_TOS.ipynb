{
 "cells": [
  {
   "cell_type": "markdown",
   "metadata": {},
   "source": [
    "## Make Dataset TOS Compliant"
   ]
  },
  {
   "cell_type": "code",
   "execution_count": 3,
   "metadata": {
    "collapsed": true
   },
   "outputs": [],
   "source": [
    "import pandas as pd\n",
    "import glob\n",
    "import os"
   ]
  },
  {
   "cell_type": "code",
   "execution_count": 4,
   "metadata": {
    "collapsed": false
   },
   "outputs": [
    {
     "name": "stdout",
     "output_type": "stream",
     "text": [
      "full_data/clinton_20161019-123935.csv\n",
      "full_data/hashtag_clinton_20161019-123931.csv\n",
      "full_data/hashtag_debate_20161019-123932.csv\n",
      "full_data/hashtag_hillary_20161019-123932.csv\n",
      "full_data/hashtag_trump_20161019-123934.csv\n",
      "full_data/hillary_20161019-123935.csv\n",
      "full_data/trump_20161019-123937.csv\n",
      "885222\n"
     ]
    }
   ],
   "source": [
    "def clean_datasets():\n",
    "    \"\"\" \n",
    "    Takes the full datasets scraped from each miner and outputs a clean dataset\n",
    "    containing only the tweet IDs. This makes it compliant with Twitter's TOS.\n",
    "    \"\"\"\n",
    "    \n",
    "    path = 'full_data/'\n",
    "    \n",
    "    tweet_ids = []\n",
    "\n",
    "    for filename in glob.glob(os.path.join(path, '*.csv')):\n",
    "        print(filename)\n",
    "        try:\n",
    "            df_file = pd.read_csv(filename, header=None)\n",
    "            tweet_ids.extend(df_file[28].values.tolist())\n",
    "        except Exception as e:\n",
    "            print(e)\n",
    "            pass\n",
    "        \n",
    "    df = pd.DataFrame({'Tweet IDs':tweet_ids})\n",
    "    df = df.drop_duplicates()\n",
    "    print(len(df))\n",
    "    df.to_csv(\"clean_data/clean_data.csv\", index=False)\n",
    "    \n",
    "clean_datasets()"
   ]
  },
  {
   "cell_type": "code",
   "execution_count": null,
   "metadata": {
    "collapsed": true
   },
   "outputs": [],
   "source": []
  }
 ],
 "metadata": {
  "anaconda-cloud": {},
  "kernelspec": {
   "display_name": "Python [conda root]",
   "language": "python",
   "name": "conda-root-py"
  },
  "language_info": {
   "codemirror_mode": {
    "name": "ipython",
    "version": 3
   },
   "file_extension": ".py",
   "mimetype": "text/x-python",
   "name": "python",
   "nbconvert_exporter": "python",
   "pygments_lexer": "ipython3",
   "version": "3.5.2"
  }
 },
 "nbformat": 4,
 "nbformat_minor": 1
}
